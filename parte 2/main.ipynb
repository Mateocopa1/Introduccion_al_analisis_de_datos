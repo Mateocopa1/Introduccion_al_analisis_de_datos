{
 "cells": [
  {
   "cell_type": "code",
   "execution_count": 1,
   "metadata": {},
   "outputs": [],
   "source": [
    "# importacion de numpy y typing\n",
    "import numpy as np\n",
    "import pandas as pd\n",
    "from typing import Tuple"
   ]
  },
  {
   "cell_type": "code",
   "execution_count": 21,
   "metadata": {},
   "outputs": [
    {
     "name": "stdout",
     "output_type": "stream",
     "text": [
      "DatasetDict({\n",
      "    train: Dataset({\n",
      "        features: ['age', 'has_anaemia', 'creatinine_phosphokinase_concentration_in_blood', 'has_diabetes', 'heart_ejection_fraction', 'has_high_blood_pressure', 'platelets_concentration_in_blood', 'serum_creatinine_concentration_in_blood', 'serum_sodium_concentration_in_blood', 'is_male', 'is_smoker', 'days_in_study', 'is_dead'],\n",
      "        num_rows: 299\n",
      "    })\n",
      "})\n"
     ]
    }
   ],
   "source": [
    "# importacion de data \n",
    "from datasets import load_dataset\n",
    "dataset = load_dataset(\"mstz/heart_failure\")\n",
    "print(dataset)"
   ]
  },
  {
   "cell_type": "code",
   "execution_count": 27,
   "metadata": {},
   "outputs": [],
   "source": [
    "# transformacion de datos en diccionarion\n",
    "data = dataset[\"train\"]"
   ]
  },
  {
   "cell_type": "code",
   "execution_count": 32,
   "metadata": {},
   "outputs": [
    {
     "name": "stdout",
     "output_type": "stream",
     "text": [
      "Index(['age', 'has_anaemia', 'creatinine_phosphokinase_concentration_in_blood',\n",
      "       'has_diabetes', 'heart_ejection_fraction', 'has_high_blood_pressure',\n",
      "       'platelets_concentration_in_blood',\n",
      "       'serum_creatinine_concentration_in_blood',\n",
      "       'serum_sodium_concentration_in_blood', 'is_male', 'is_smoker',\n",
      "       'days_in_study', 'is_dead'],\n",
      "      dtype='object')\n"
     ]
    }
   ],
   "source": [
    "# filtro por fallecidos\n",
    "df = pd.DataFrame(data)\n",
    "fallecidos = df.query('is_dead == 1')\n",
    "print(fallecidos.columns)"
   ]
  },
  {
   "cell_type": "code",
   "execution_count": 34,
   "metadata": {},
   "outputs": [],
   "source": [
    "#filtro de los restantes\n",
    "restante = df.query('is_dead != 1')"
   ]
  },
  {
   "cell_type": "code",
   "execution_count": 37,
   "metadata": {},
   "outputs": [
    {
     "name": "stdout",
     "output_type": "stream",
     "text": [
      "El promedio de edad de los pacientes cardiacos que fallecieron es de 65.20833333333333\n",
      "El promedio de edad de las personas que estan con vida de la base de pacientes es de 58.758620689655174\n"
     ]
    }
   ],
   "source": [
    "# promedio de edades \n",
    "\n",
    "promedio_fallecidos = fallecidos['age'].mean()\n",
    "print(f'El promedio de edad de los pacientes cardiacos que fallecieron es de {promedio_fallecidos}')\n",
    "\n",
    "promedio_restantes = restante['age'].mean()\n",
    "print(f'El promedio de edad de las personas que estan con vida de la base de pacientes es de {promedio_restantes}')"
   ]
  }
 ],
 "metadata": {
  "kernelspec": {
   "display_name": "Python 3",
   "language": "python",
   "name": "python3"
  },
  "language_info": {
   "codemirror_mode": {
    "name": "ipython",
    "version": 3
   },
   "file_extension": ".py",
   "mimetype": "text/x-python",
   "name": "python",
   "nbconvert_exporter": "python",
   "pygments_lexer": "ipython3",
   "version": "3.11.4"
  },
  "orig_nbformat": 4
 },
 "nbformat": 4,
 "nbformat_minor": 2
}

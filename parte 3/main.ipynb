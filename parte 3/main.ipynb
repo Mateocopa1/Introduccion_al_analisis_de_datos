{
 "cells": [
  {
   "cell_type": "code",
   "execution_count": 2,
   "metadata": {},
   "outputs": [],
   "source": [
    "# importacion de numpy y typing\n",
    "import numpy as np\n",
    "import pandas as pd\n",
    "from typing import Tuple"
   ]
  },
  {
   "cell_type": "code",
   "execution_count": 3,
   "metadata": {},
   "outputs": [
    {
     "name": "stderr",
     "output_type": "stream",
     "text": [
      "c:\\Users\\mateo\\AppData\\Local\\Programs\\Python\\Python311\\Lib\\site-packages\\tqdm\\auto.py:21: TqdmWarning: IProgress not found. Please update jupyter and ipywidgets. See https://ipywidgets.readthedocs.io/en/stable/user_install.html\n",
      "  from .autonotebook import tqdm as notebook_tqdm\n"
     ]
    },
    {
     "name": "stdout",
     "output_type": "stream",
     "text": [
      "DatasetDict({\n",
      "    train: Dataset({\n",
      "        features: ['age', 'has_anaemia', 'creatinine_phosphokinase_concentration_in_blood', 'has_diabetes', 'heart_ejection_fraction', 'has_high_blood_pressure', 'platelets_concentration_in_blood', 'serum_creatinine_concentration_in_blood', 'serum_sodium_concentration_in_blood', 'is_male', 'is_smoker', 'days_in_study', 'is_dead'],\n",
      "        num_rows: 299\n",
      "    })\n",
      "})\n"
     ]
    }
   ],
   "source": [
    "# importacion de data \n",
    "from datasets import load_dataset\n",
    "dataset = load_dataset(\"mstz/heart_failure\")\n",
    "print(dataset)"
   ]
  },
  {
   "cell_type": "code",
   "execution_count": 4,
   "metadata": {},
   "outputs": [],
   "source": [
    "# transformacion de datos en diccionarion\n",
    "data = dataset[\"train\"]"
   ]
  },
  {
   "cell_type": "code",
   "execution_count": 5,
   "metadata": {},
   "outputs": [
    {
     "name": "stdout",
     "output_type": "stream",
     "text": [
      "Index(['age', 'has_anaemia', 'creatinine_phosphokinase_concentration_in_blood',\n",
      "       'has_diabetes', 'heart_ejection_fraction', 'has_high_blood_pressure',\n",
      "       'platelets_concentration_in_blood',\n",
      "       'serum_creatinine_concentration_in_blood',\n",
      "       'serum_sodium_concentration_in_blood', 'is_male', 'is_smoker',\n",
      "       'days_in_study', 'is_dead'],\n",
      "      dtype='object')\n"
     ]
    }
   ],
   "source": [
    "# filtro por fallecidos\n",
    "df = pd.DataFrame(data)\n",
    "fallecidos = df.query('is_dead == 1')\n",
    "print(fallecidos.columns)"
   ]
  },
  {
   "cell_type": "code",
   "execution_count": 6,
   "metadata": {},
   "outputs": [],
   "source": [
    "#filtro de los restantes\n",
    "restante = df.query('is_dead != 1')"
   ]
  },
  {
   "cell_type": "code",
   "execution_count": 7,
   "metadata": {},
   "outputs": [
    {
     "name": "stdout",
     "output_type": "stream",
     "text": [
      "El promedio de edad de los pacientes cardiacos que fallecieron es de 65.20833333333333\n",
      "El promedio de edad de las personas que estan con vida de la base de pacientes es de 58.758620689655174\n"
     ]
    }
   ],
   "source": [
    "# promedio de edades \n",
    "\n",
    "promedio_fallecidos = fallecidos['age'].mean()\n",
    "print(f'El promedio de edad de los pacientes cardiacos que fallecieron es de {promedio_fallecidos}')\n",
    "\n",
    "promedio_restantes = restante['age'].mean()\n",
    "print(f'El promedio de edad de las personas que estan con vida de la base de pacientes es de {promedio_restantes}')"
   ]
  },
  {
   "cell_type": "code",
   "execution_count": 10,
   "metadata": {},
   "outputs": [
    {
     "name": "stdout",
     "output_type": "stream",
     "text": [
      "age                                                  int64\n",
      "has_anaemia                                           bool\n",
      "creatinine_phosphokinase_concentration_in_blood    float64\n",
      "has_diabetes                                          bool\n",
      "heart_ejection_fraction                            float64\n",
      "has_high_blood_pressure                               bool\n",
      "platelets_concentration_in_blood                   float64\n",
      "serum_creatinine_concentration_in_blood            float64\n",
      "serum_sodium_concentration_in_blood                float64\n",
      "is_male                                               bool\n",
      "is_smoker                                             bool\n",
      "days_in_study                                        int64\n",
      "is_dead                                              int64\n",
      "dtype: object\n"
     ]
    }
   ],
   "source": [
    "# comprobacion de datos \n",
    "print(fallecidos.dtypes)"
   ]
  },
  {
   "cell_type": "code",
   "execution_count": 13,
   "metadata": {},
   "outputs": [
    {
     "name": "stdout",
     "output_type": "stream",
     "text": [
      "age                                                  int64\n",
      "has_anaemia                                           bool\n",
      "creatinine_phosphokinase_concentration_in_blood    float64\n",
      "has_diabetes                                          bool\n",
      "heart_ejection_fraction                            float64\n",
      "has_high_blood_pressure                               bool\n",
      "platelets_concentration_in_blood                   float64\n",
      "serum_creatinine_concentration_in_blood            float64\n",
      "serum_sodium_concentration_in_blood                float64\n",
      "is_male                                               bool\n",
      "is_smoker                                             bool\n",
      "days_in_study                                        int64\n",
      "is_dead                                              int64\n",
      "dtype: object\n"
     ]
    }
   ],
   "source": [
    "# comprobacion de datos \n",
    "print(restante.dtypes)"
   ]
  },
  {
   "cell_type": "code",
   "execution_count": 15,
   "metadata": {},
   "outputs": [
    {
     "name": "stdout",
     "output_type": "stream",
     "text": [
      "       age  has_anaemia  creatinine_phosphokinase_concentration_in_blood  \\\n",
      "0    False        False                                            False   \n",
      "1    False        False                                            False   \n",
      "2    False        False                                            False   \n",
      "3    False        False                                            False   \n",
      "4    False        False                                            False   \n",
      "..     ...          ...                                              ...   \n",
      "220  False        False                                            False   \n",
      "230  False        False                                            False   \n",
      "246  False        False                                            False   \n",
      "262  False        False                                            False   \n",
      "266  False        False                                            False   \n",
      "\n",
      "     has_diabetes  heart_ejection_fraction  has_high_blood_pressure  \\\n",
      "0           False                    False                    False   \n",
      "1           False                    False                    False   \n",
      "2           False                    False                    False   \n",
      "3           False                    False                    False   \n",
      "4           False                    False                    False   \n",
      "..            ...                      ...                      ...   \n",
      "220         False                    False                    False   \n",
      "230         False                    False                    False   \n",
      "246         False                    False                    False   \n",
      "262         False                    False                    False   \n",
      "266         False                    False                    False   \n",
      "\n",
      "     platelets_concentration_in_blood  \\\n",
      "0                               False   \n",
      "1                               False   \n",
      "2                               False   \n",
      "3                               False   \n",
      "4                               False   \n",
      "..                                ...   \n",
      "220                             False   \n",
      "230                             False   \n",
      "246                             False   \n",
      "262                             False   \n",
      "266                             False   \n",
      "\n",
      "     serum_creatinine_concentration_in_blood  \\\n",
      "0                                      False   \n",
      "1                                      False   \n",
      "2                                      False   \n",
      "3                                      False   \n",
      "4                                      False   \n",
      "..                                       ...   \n",
      "220                                    False   \n",
      "230                                    False   \n",
      "246                                    False   \n",
      "262                                    False   \n",
      "266                                    False   \n",
      "\n",
      "     serum_sodium_concentration_in_blood  is_male  is_smoker  days_in_study  \\\n",
      "0                                  False    False      False          False   \n",
      "1                                  False    False      False          False   \n",
      "2                                  False    False      False          False   \n",
      "3                                  False    False      False          False   \n",
      "4                                  False    False      False          False   \n",
      "..                                   ...      ...        ...            ...   \n",
      "220                                False    False      False          False   \n",
      "230                                False    False      False          False   \n",
      "246                                False    False      False          False   \n",
      "262                                False    False      False          False   \n",
      "266                                False    False      False          False   \n",
      "\n",
      "     is_dead  \n",
      "0      False  \n",
      "1      False  \n",
      "2      False  \n",
      "3      False  \n",
      "4      False  \n",
      "..       ...  \n",
      "220    False  \n",
      "230    False  \n",
      "246    False  \n",
      "262    False  \n",
      "266    False  \n",
      "\n",
      "[96 rows x 13 columns]\n"
     ]
    }
   ],
   "source": [
    "# comprobacion de faltantes \n",
    "print(fallecidos.isna())"
   ]
  },
  {
   "cell_type": "code",
   "execution_count": 22,
   "metadata": {},
   "outputs": [
    {
     "name": "stdout",
     "output_type": "stream",
     "text": [
      "       age  has_anaemia  creatinine_phosphokinase_concentration_in_blood  \\\n",
      "14   False        False                                            False   \n",
      "20   False        False                                            False   \n",
      "23   False        False                                            False   \n",
      "33   False        False                                            False   \n",
      "38   False        False                                            False   \n",
      "..     ...          ...                                              ...   \n",
      "294  False        False                                            False   \n",
      "295  False        False                                            False   \n",
      "296  False        False                                            False   \n",
      "297  False        False                                            False   \n",
      "298  False        False                                            False   \n",
      "\n",
      "     has_diabetes  heart_ejection_fraction  has_high_blood_pressure  \\\n",
      "14          False                    False                    False   \n",
      "20          False                    False                    False   \n",
      "23          False                    False                    False   \n",
      "33          False                    False                    False   \n",
      "38          False                    False                    False   \n",
      "..            ...                      ...                      ...   \n",
      "294         False                    False                    False   \n",
      "295         False                    False                    False   \n",
      "296         False                    False                    False   \n",
      "297         False                    False                    False   \n",
      "298         False                    False                    False   \n",
      "\n",
      "     platelets_concentration_in_blood  \\\n",
      "14                              False   \n",
      "20                              False   \n",
      "23                              False   \n",
      "33                              False   \n",
      "38                              False   \n",
      "..                                ...   \n",
      "294                             False   \n",
      "295                             False   \n",
      "296                             False   \n",
      "297                             False   \n",
      "298                             False   \n",
      "\n",
      "     serum_creatinine_concentration_in_blood  \\\n",
      "14                                     False   \n",
      "20                                     False   \n",
      "23                                     False   \n",
      "33                                     False   \n",
      "38                                     False   \n",
      "..                                       ...   \n",
      "294                                    False   \n",
      "295                                    False   \n",
      "296                                    False   \n",
      "297                                    False   \n",
      "298                                    False   \n",
      "\n",
      "     serum_sodium_concentration_in_blood  is_male  is_smoker  days_in_study  \\\n",
      "14                                 False    False      False          False   \n",
      "20                                 False    False      False          False   \n",
      "23                                 False    False      False          False   \n",
      "33                                 False    False      False          False   \n",
      "38                                 False    False      False          False   \n",
      "..                                   ...      ...        ...            ...   \n",
      "294                                False    False      False          False   \n",
      "295                                False    False      False          False   \n",
      "296                                False    False      False          False   \n",
      "297                                False    False      False          False   \n",
      "298                                False    False      False          False   \n",
      "\n",
      "     is_dead  \n",
      "14     False  \n",
      "20     False  \n",
      "23     False  \n",
      "33     False  \n",
      "38     False  \n",
      "..       ...  \n",
      "294    False  \n",
      "295    False  \n",
      "296    False  \n",
      "297    False  \n",
      "298    False  \n",
      "\n",
      "[203 rows x 13 columns]\n"
     ]
    }
   ],
   "source": [
    "# comprobacion de faltantes \n",
    "print(restante.isna())"
   ]
  },
  {
   "cell_type": "code",
   "execution_count": 41,
   "metadata": {},
   "outputs": [
    {
     "name": "stdout",
     "output_type": "stream",
     "text": [
      "is_smoker  is_male\n",
      "True       False       4\n",
      "           True       92\n",
      "Name: count, dtype: int64\n"
     ]
    }
   ],
   "source": [
    "# vs de fumadores por genero\n",
    "filtro = df.query('is_smoker == True')\n",
    "cubo_vs = filtro[['is_smoker','is_male']].groupby(['is_smoker','is_male']).value_counts()\n",
    "print(cubo_vs)"
   ]
  }
 ],
 "metadata": {
  "kernelspec": {
   "display_name": "Python 3",
   "language": "python",
   "name": "python3"
  },
  "language_info": {
   "codemirror_mode": {
    "name": "ipython",
    "version": 3
   },
   "file_extension": ".py",
   "mimetype": "text/x-python",
   "name": "python",
   "nbconvert_exporter": "python",
   "pygments_lexer": "ipython3",
   "version": "3.11.4"
  },
  "orig_nbformat": 4
 },
 "nbformat": 4,
 "nbformat_minor": 2
}

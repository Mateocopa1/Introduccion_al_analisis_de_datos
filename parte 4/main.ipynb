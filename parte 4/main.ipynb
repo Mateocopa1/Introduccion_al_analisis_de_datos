{
 "cells": [
  {
   "cell_type": "code",
   "execution_count": 8,
   "metadata": {},
   "outputs": [],
   "source": [
    "import requests\n",
    "import csv\n",
    "#solicitud de la url de la api\n",
    "api_url = input('Ingrese la URL de la api a consultar: /n')\n",
    "#solicitud de nombre del archivo\n",
    "archivo = input('Ingresa el nombre del archivo:')\n",
    "#consumo de la api\n",
    "response = requests.get(api_url)\n",
    "# verificacion del consumo\n",
    "if response.status_code == 200:\n",
    "    #exportacion de la data a csv\n",
    "    with open (f'{archivo}.csv', 'wb') as archivo:\n",
    "        archivo.write(response.content)\n",
    "    # caso de que no halla informacion\n",
    "else:\n",
    "    print(f'Compruebe la url {api_url}, ya que no esta entregando datos')\n",
    "    \n",
    "\n",
    "\n"
   ]
  }
 ],
 "metadata": {
  "kernelspec": {
   "display_name": "Python 3",
   "language": "python",
   "name": "python3"
  },
  "language_info": {
   "codemirror_mode": {
    "name": "ipython",
    "version": 3
   },
   "file_extension": ".py",
   "mimetype": "text/x-python",
   "name": "python",
   "nbconvert_exporter": "python",
   "pygments_lexer": "ipython3",
   "version": "3.11.4"
  },
  "orig_nbformat": 4
 },
 "nbformat": 4,
 "nbformat_minor": 2
}

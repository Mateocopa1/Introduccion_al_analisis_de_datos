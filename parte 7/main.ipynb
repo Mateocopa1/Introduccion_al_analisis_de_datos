{
 "cells": [
  {
   "cell_type": "code",
   "execution_count": 1,
   "metadata": {},
   "outputs": [],
   "source": [
    "import numpy as np\n",
    "import pandas as pd\n",
    "from typing import Tuple"
   ]
  },
  {
   "cell_type": "code",
   "execution_count": 2,
   "metadata": {},
   "outputs": [
    {
     "name": "stdout",
     "output_type": "stream",
     "text": [
      "      age  anaemia  creatinine_phosphokinase  diabetes  ejection_fraction  \\\n",
      "0    75.0        0                       582         0                 20   \n",
      "1    55.0        0                      7861         0                 38   \n",
      "2    65.0        0                       146         0                 20   \n",
      "3    50.0        1                       111         0                 20   \n",
      "4    65.0        1                       160         1                 20   \n",
      "..    ...      ...                       ...       ...                ...   \n",
      "294  62.0        0                        61         1                 38   \n",
      "295  55.0        0                      1820         0                 38   \n",
      "296  45.0        0                      2060         1                 60   \n",
      "297  45.0        0                      2413         0                 38   \n",
      "298  50.0        0                       196         0                 45   \n",
      "\n",
      "     high_blood_pressure  platelets  serum_creatinine  serum_sodium  sex  \\\n",
      "0                      1  265000.00               1.9           130    1   \n",
      "1                      0  263358.03               1.1           136    1   \n",
      "2                      0  162000.00               1.3           129    1   \n",
      "3                      0  210000.00               1.9           137    1   \n",
      "4                      0  327000.00               2.7           116    0   \n",
      "..                   ...        ...               ...           ...  ...   \n",
      "294                    1  155000.00               1.1           143    1   \n",
      "295                    0  270000.00               1.2           139    0   \n",
      "296                    0  742000.00               0.8           138    0   \n",
      "297                    0  140000.00               1.4           140    1   \n",
      "298                    0  395000.00               1.6           136    1   \n",
      "\n",
      "     smoking  time  DEATH_EVENT  \n",
      "0          0     4            1  \n",
      "1          0     6            1  \n",
      "2          1     7            1  \n",
      "3          0     7            1  \n",
      "4          0     8            1  \n",
      "..       ...   ...          ...  \n",
      "294        1   270            0  \n",
      "295        0   271            0  \n",
      "296        0   278            0  \n",
      "297        1   280            0  \n",
      "298        1   285            0  \n",
      "\n",
      "[299 rows x 13 columns]\n"
     ]
    }
   ],
   "source": [
    "df = pd.read_csv('datos.csv')\n",
    "\n",
    "print(df)"
   ]
  },
  {
   "cell_type": "code",
   "execution_count": 23,
   "metadata": {},
   "outputs": [
    {
     "name": "stdout",
     "output_type": "stream",
     "text": [
      "Index(['age', 'anaemia', 'creatinine_phosphokinase', 'diabetes',\n",
      "       'ejection_fraction', 'high_blood_pressure', 'platelets',\n",
      "       'serum_creatinine', 'serum_sodium', 'sex', 'smoking', 'time',\n",
      "       'DEATH_EVENT'],\n",
      "      dtype='object')\n"
     ]
    }
   ],
   "source": [
    "print(df.columns)\n",
    "\n",
    "df_anemia = df[df['anaemia']==1]\n",
    "\n",
    "df_diabeticos = df[df['diabetes']==1]\n",
    "\n",
    "df_fumadores = df[df['smoking']==1]\n",
    "\n",
    "df_muertos = df[df['DEATH_EVENT']==1]\n"
   ]
  },
  {
   "cell_type": "code",
   "execution_count": 24,
   "metadata": {},
   "outputs": [
    {
     "name": "stdout",
     "output_type": "stream",
     "text": [
      "77\n",
      "52\n",
      "70\n",
      "55\n",
      "92\n",
      "4\n",
      "62\n",
      "34\n"
     ]
    }
   ],
   "source": [
    "anemia_h = df_anemia['anaemia'][df_anemia['sex'] == 1].count()\n",
    "anemia_m = df_anemia['anaemia'][df_anemia['sex'] == 0].count()\n",
    "\n",
    "diabeticos_h = df_diabeticos['diabetes'][df_diabeticos['sex'] == 1].count()\n",
    "diabeticos_m = df_diabeticos['diabetes'][df_diabeticos['sex'] == 0].count()\n",
    "\n",
    "fumadores_h = df_fumadores['smoking'][df_fumadores['sex'] == 1].count()\n",
    "fumadores_m = df_fumadores['smoking'][df_fumadores['sex'] == 0].count()\n",
    "\n",
    "muertos_h = df_muertos['DEATH_EVENT'][df_muertos['sex'] == 1].count()\n",
    "muertos_m = df_muertos['DEATH_EVENT'][df_muertos['sex'] == 0].count()\n",
    "\n"
   ]
  },
  {
   "cell_type": "code",
   "execution_count": 43,
   "metadata": {},
   "outputs": [
    {
     "data": {
      "image/png": "[encoded data removed]",
      "text/plain": [
       "<Figure size 640x480 with 1 Axes>"
      ]
     },
     "metadata": {},
     "output_type": "display_data"
    }
   ],
   "source": [
    "import matplotlib.pyplot as plt\n",
    "import numpy as np\n",
    "\n",
    "hombres = [anemia_h, diabeticos_h,fumadores_h,muertos_h]\n",
    "mujeres = [anemia_m, diabeticos_m,fumadores_m,muertos_m]\n",
    "nombres = ['Anemicos', 'Diabeticos','Fumadores','Muertos']\n",
    "ubicacion = np.arange(len(nombres))\n",
    "ancho = 0.35\n",
    "barras1 = plt.bar(ubicacion - ancho/2, hombres, ancho, label='hombres')\n",
    "barras2 = plt.bar(ubicacion + ancho/2, mujeres, ancho, label='Mujeres')\n",
    "plt.xticks(ubicacion, nombres)\n",
    "plt.title('Histograma Agrupado por Sexo')\n",
    "plt.xlabel('Categorías')\n",
    "plt.ylabel('Cantidades')\n",
    "plt.legend()\n",
    "plt.show()\n"
   ]
  }
 ],
 "metadata": {
  "kernelspec": {
   "display_name": "Python 3",
   "language": "python",
   "name": "python3"
  },
  "language_info": {
   "codemirror_mode": {
    "name": "ipython",
    "version": 3
   },
   "file_extension": ".py",
   "mimetype": "text/x-python",
   "name": "python",
   "nbconvert_exporter": "python",
   "pygments_lexer": "ipython3",
   "version": "3.11.4"
  }
 },
 "nbformat": 4,
 "nbformat_minor": 2
}
